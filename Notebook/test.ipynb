{
 "cells": [
  {
   "cell_type": "markdown",
   "metadata": {},
   "source": [
    "# Stock Price Predictor\n",
    "This notebook implements a stock price prediction model using technical indicators and sentiment analysis from news and Reddit."
   ]
  },
  {
   "cell_type": "code",
   "execution_count": 29,
   "metadata": {},
   "outputs": [
    {
     "data": {
      "text/plain": [
       "True"
      ]
     },
     "execution_count": 29,
     "metadata": {},
     "output_type": "execute_result"
    }
   ],
   "source": [
    "# Basic data manipulation and analysis\n",
    "import pandas as pd\n",
    "import numpy as np\n",
    "from datetime import datetime, timedelta\n",
    "import re\n",
    "import os\n",
    "import warnings\n",
    "warnings.filterwarnings('ignore')\n",
    "\n",
    "# API clients\n",
    "import yfinance as yf\n",
    "import praw\n",
    "from newsapi import NewsApiClient\n",
    "from textblob import TextBlob\n",
    "\n",
    "# ML and visualization\n",
    "from sklearn.ensemble import RandomForestRegressor\n",
    "from sklearn.metrics import mean_squared_error, r2_score\n",
    "from sklearn.model_selection import train_test_split\n",
    "import plotly.graph_objects as go\n",
    "\n",
    "# Environment variables\n",
    "from dotenv import load_dotenv\n",
    "load_dotenv()"
   ]
  },
  {
   "cell_type": "markdown",
   "metadata": {},
   "source": [
    "## StockPredictor Class\n",
    "The main class that handles data collection, processing, and prediction."
   ]
  },
  {
   "cell_type": "code",
   "execution_count": 31,
   "metadata": {},
   "outputs": [],
   "source": [
    "class StockPredictor:\n",
    "    def __init__(self, stock_symbol):\n",
    "        \"\"\"Initialize the StockPredictor with API clients\"\"\"\n",
    "        self.stock_symbol = stock_symbol\n",
    "        try:\n",
    "            self.news_api = NewsApiClient(api_key=os.getenv('NEWS_API_KEY'))\n",
    "        except:\n",
    "            print(\"Warning: NewsAPI initialization failed\")\n",
    "            self.news_api = None\n",
    "            \n",
    "        try:\n",
    "            self.reddit_client = self._setup_reddit()\n",
    "        except:\n",
    "            print(\"Warning: Reddit API initialization failed\")\n",
    "            self.reddit_client = None\n",
    "\n",
    "    def _setup_reddit(self):\n",
    "        \"\"\"Setup Reddit API client\"\"\"\n",
    "        return praw.Reddit(\n",
    "            client_id=os.getenv('REDDIT_CLIENT_ID'),\n",
    "            client_secret=os.getenv('REDDIT_CLIENT_SECRET'),\n",
    "            user_agent=\"StockAnalyzer/1.0\"\n",
    "        )\n",
    "\n",
    "    def fetch_stock_data(self, period=\"1y\"):\n",
    "        \"\"\"Fetch stock data using yfinance\"\"\"\n",
    "        try:\n",
    "            stock = yf.Ticker(self.stock_symbol)\n",
    "            df = stock.history(period=period)\n",
    "      \n",
    "            df.index = df.index.tz_localize(None)\n",
    "            print(f\"Fetched {len(df)} days of stock data\")\n",
    "            return df\n",
    "        except Exception as e:\n",
    "            print(f\"Error fetching stock data: {e}\")\n",
    "            return pd.DataFrame()\n",
    "\n",
    "    def fetch_news_sentiment(self, days=7):\n",
    "        \"\"\"Fetch and analyze news articles\"\"\"\n",
    "        if not self.news_api:\n",
    "            return pd.DataFrame()\n",
    "        \n",
    "        try:\n",
    "            from_date = (datetime.now() - timedelta(days=days)).strftime('%Y-%m-%d')\n",
    "            \n",
    "            articles = self.news_api.get_everything(\n",
    "                q=self.stock_symbol,\n",
    "                from_param=from_date,\n",
    "                language='en',\n",
    "                sort_by='publishedAt'\n",
    "            )\n",
    "            \n",
    "            news_data = []\n",
    "            for article in articles['articles']:\n",
    "                if article['title'] and article['description']:\n",
    "                    text = f\"{article['title']} {article['description']}\"\n",
    "                    clean_text = self._clean_text(text)\n",
    "                    sentiment = TextBlob(clean_text).sentiment\n",
    "                    \n",
    "                    news_data.append({\n",
    "                        'date': pd.to_datetime(article['publishedAt']).date(),\n",
    "                        'text': clean_text,\n",
    "                        'sentiment_polarity': sentiment.polarity,\n",
    "                        'sentiment_subjectivity': sentiment.subjectivity,\n",
    "                        'source': article['source']['name']\n",
    "                    })\n",
    "            \n",
    "            return pd.DataFrame(news_data)\n",
    "        except Exception as e:\n",
    "            print(f\"Error fetching news: {e}\")\n",
    "            return pd.DataFrame()\n",
    "\n",
    "    def fetch_reddit_sentiment(self, days=7):\n",
    "        \"\"\"Fetch and analyze Reddit posts\"\"\"\n",
    "        if not self.reddit_client:\n",
    "            return pd.DataFrame()\n",
    "        \n",
    "        try:\n",
    "            subreddits = ['wallstreetbets', 'stocks', 'investing']\n",
    "            posts_data = []\n",
    "            \n",
    "            for subreddit_name in subreddits:\n",
    "                subreddit = self.reddit_client.subreddit(subreddit_name)\n",
    "                for post in subreddit.search(self.stock_symbol, time_filter='week', limit=100):\n",
    "                    text = f\"{post.title} {post.selftext}\"\n",
    "                    clean_text = self._clean_text(text)\n",
    "                    sentiment = TextBlob(clean_text).sentiment\n",
    "                    \n",
    "                    posts_data.append({\n",
    "                        'date': pd.to_datetime(datetime.fromtimestamp(post.created_utc)).date(),\n",
    "                        'text': clean_text,\n",
    "                        'sentiment_polarity': sentiment.polarity,\n",
    "                        'sentiment_subjectivity': sentiment.subjectivity,\n",
    "                        'score': post.score,\n",
    "                        'num_comments': post.num_comments\n",
    "                    })\n",
    "            \n",
    "            return pd.DataFrame(posts_data)\n",
    "        except Exception as e:\n",
    "            print(f\"Error fetching Reddit data: {e}\")\n",
    "            return pd.DataFrame()\n",
    "\n",
    "    def fetch_combined_sentiment(self, days=7):\n",
    "        \"\"\"Combine sentiment from multiple sources\"\"\"\n",
    "        sentiment_data = []\n",
    "    \n",
    "        news_df = self.fetch_news_sentiment(days)\n",
    "        if not news_df.empty:\n",
    "            news_df['source_type'] = 'news'\n",
    "            sentiment_data.append(news_df)\n",
    "        \n",
    "      \n",
    "        reddit_df = self.fetch_reddit_sentiment(days)\n",
    "        if not reddit_df.empty:\n",
    "            reddit_df['source_type'] = 'reddit'\n",
    "            sentiment_data.append(reddit_df)\n",
    "        \n",
    "        if sentiment_data:\n",
    "            combined_df = pd.concat(sentiment_data, ignore_index=True)\n",
    "            \n",
    "\n",
    "            combined_df['date'] = pd.to_datetime(combined_df['date'])\n",
    "            \n",
    "\n",
    "            daily_sentiment = combined_df.groupby('date').agg({\n",
    "                'sentiment_polarity': ['mean', 'std'],\n",
    "                'sentiment_subjectivity': 'mean',\n",
    "                'text': 'count'\n",
    "            }).reset_index()\n",
    "            \n",
    "\n",
    "            daily_sentiment.columns = [\n",
    "                'date',\n",
    "                'avg_sentiment',\n",
    "                'sentiment_std',\n",
    "                'subjectivity',\n",
    "                'mention_count'\n",
    "            ]\n",
    "            \n",
    "            return daily_sentiment\n",
    "        else:\n",
    "            return pd.DataFrame()\n",
    "\n",
    "    def _clean_text(self, text):\n",
    "        \"\"\"Clean text data\"\"\"\n",
    "        if pd.isna(text):\n",
    "            return \"\"\n",
    "        \n",
    " \n",
    "        text = re.sub(r'http\\S+|www\\S+|https\\S+', '', text, flags=re.MULTILINE)\n",
    "        \n",
    "\n",
    "        text = re.sub(r'[^\\w\\s]', '', text)\n",
    "        \n",
    "\n",
    "        text = ' '.join(text.split())\n",
    "        \n",
    "        return text.strip().lower()\n",
    "\n",
    "    def _calculate_technical_indicators(self, df):\n",
    "        \"\"\"Calculate technical indicators\"\"\"\n",
    "\n",
    "        df['SMA_20'] = df['Close'].rolling(window=20).mean()\n",
    "        df['SMA_50'] = df['Close'].rolling(window=50).mean()\n",
    "        \n",
    " \n",
    "        delta = df['Close'].diff()\n",
    "        gain = (delta.where(delta > 0, 0)).rolling(window=14).mean()\n",
    "        loss = (-delta.where(delta < 0, 0)).rolling(window=14).mean()\n",
    "        rs = gain / loss\n",
    "        df['RSI'] = 100 - (100 / (1 + rs))\n",
    "        \n",
    "        # MACD\n",
    "        exp1 = df['Close'].ewm(span=12, adjust=False).mean()\n",
    "        exp2 = df['Close'].ewm(span=26, adjust=False).mean()\n",
    "        df['MACD'] = exp1 - exp2\n",
    "        df['Signal_Line'] = df['MACD'].ewm(span=9, adjust=False).mean()\n",
    "        \n",
    "        # Bollinger Bands\n",
    "        df['BB_middle'] = df['Close'].rolling(window=20).mean()\n",
    "        df['BB_upper'] = df['BB_middle'] + 2 * df['Close'].rolling(window=20).std()\n",
    "        df['BB_lower'] = df['BB_middle'] - 2 * df['Close'].rolling(window=20).std()\n",
    "        \n",
    "        return df\n",
    "\n",
    "    def prepare_features(self, stock_data, sentiment_data):\n",
    "        \"\"\"Prepare features for the model\"\"\"\n",
    "        # Add technical indicators\n",
    "        df = self._calculate_technical_indicators(stock_data.copy())\n",
    "        \n",
    "\n",
    "        if sentiment_data is not None and not sentiment_data.empty:\n",
    "          \n",
    "            sentiment_data['date'] = pd.to_datetime(sentiment_data['date'])\n",
    "            sentiment_data.set_index('date', inplace=True)\n",
    "            \n",
    "          \n",
    "            sentiment_data.index = sentiment_data.index.tz_localize(None)\n",
    "            \n",
    "\n",
    "            df = df.join(sentiment_data, how='left')\n",
    "            \n",
    "          \n",
    "            sentiment_columns = ['avg_sentiment', 'sentiment_std', 'subjectivity', 'mention_count']\n",
    "            df[sentiment_columns] = df[sentiment_columns].fillna(0)\n",
    "        \n",
    "\n",
    "        df['Returns'] = df['Close'].pct_change()\n",
    "        df['Volatility'] = df['Returns'].rolling(window=20).std()\n",
    "        \n",
    "        df = df.dropna()\n",
    "        \n",
    "        return df\n",
    "\n",
    "    def train_model(self, features, target, test_size=0.2):\n",
    "        \"\"\"Train the Random Forest model\"\"\"\n",
    "        X_train, X_test, y_train, y_test = train_test_split(\n",
    "            features, target, test_size=test_size, shuffle=False\n",
    "        )\n",
    "        \n",
    "        model = RandomForestRegressor(\n",
    "            n_estimators=100,\n",
    "            random_state=42,\n",
    "            n_jobs=-1\n",
    "        )\n",
    "        \n",
    "        model.fit(X_train, y_train)\n",
    "        \n",
    "        train_score = r2_score(y_train, model.predict(X_train))\n",
    "        test_score = r2_score(y_test, model.predict(X_test))\n",
    "        \n",
    "        return model, train_score, test_score, X_test, y_test\n",
    "\n",
    "    def calculate_accuracy_metrics(self, y_true, y_pred):\n",
    "        \"\"\"Calculate various accuracy metrics\"\"\"\n",
    "        # Calculate percentage difference between predicted and actual values\n",
    "        percentage_diff = np.abs((y_true - y_pred) / y_true * 100)\n",
    "        \n",
    "        # Calculate accuracy metrics\n",
    "        mean_accuracy = 100 - np.mean(percentage_diff)\n",
    "        max_error_percentage = np.max(percentage_diff)\n",
    "        min_error_percentage = np.min(percentage_diff)\n",
    "        \n",
    "        # Calculate directional accuracy (if the prediction correctly indicates up/down movement)\n",
    "        y_true_direction = np.sign(np.diff(y_true))\n",
    "        y_pred_direction = np.sign(np.diff(y_pred))\n",
    "        directional_accuracy = np.mean(y_true_direction == y_pred_direction) * 100\n",
    "        \n",
    "        # Calculate within threshold accuracy (predictions within 5% of actual value)\n",
    "        threshold_accuracy = np.mean(percentage_diff <= 5) * 100\n",
    "        \n",
    "        return {\n",
    "            'mean_accuracy': mean_accuracy,\n",
    "            'directional_accuracy': directional_accuracy,\n",
    "            'threshold_accuracy': threshold_accuracy,\n",
    "            'max_error': max_error_percentage,\n",
    "            'min_error': min_error_percentage\n",
    "        }\n",
    "\n",
    "    def plot_predictions(self, y_true, y_pred, dates):\n",
    "        \"\"\"Plot actual vs predicted prices\"\"\"\n",
    "        fig = go.Figure()\n",
    "        \n",
    "        fig.add_trace(go.Scatter(\n",
    "            x=dates,\n",
    "            y=y_true,\n",
    "            name=\"Actual\",\n",
    "            line=dict(color=\"blue\")\n",
    "        ))\n",
    "        \n",
    "        fig.add_trace(go.Scatter(\n",
    "            x=dates,\n",
    "            y=y_pred,\n",
    "            name=\"Predicted\",\n",
    "            line=dict(color=\"red\")\n",
    "        ))\n",
    "        \n",
    "        fig.update_layout(\n",
    "            title=f\"{self.stock_symbol} Stock Price Prediction\",\n",
    "            xaxis_title=\"Date\",\n",
    "            yaxis_title=\"Price\",\n",
    "            template=\"plotly_dark\"\n",
    "        )\n",
    "        \n",
    "        return fig"
   ]
  },
  {
   "cell_type": "markdown",
   "metadata": {},
   "source": [
    "## Model Training and Prediction\n",
    "Let's create an instance of our predictor and run the analysis"
   ]
  },
  {
   "cell_type": "markdown",
   "metadata": {},
   "source": []
  },
  {
   "cell_type": "code",
   "execution_count": 32,
   "metadata": {},
   "outputs": [
    {
     "name": "stdout",
     "output_type": "stream",
     "text": [
      "Fetched 252 days of stock data\n",
      "Successfully fetched stock data with shape: (252, 7)\n",
      "\n",
      "Fetching sentiment data...\n",
      "Fetched sentiment data for 7 days\n",
      "\n",
      "Preparing features...\n",
      "Final dataset shape: (203, 21)\n",
      "\n",
      "Using features: ['Open', 'High', 'Low', 'Volume', 'SMA_20', 'SMA_50', 'RSI', 'MACD', 'Signal_Line', 'BB_middle', 'BB_upper', 'BB_lower', 'avg_sentiment', 'sentiment_std', 'subjectivity', 'mention_count', 'Volatility']\n"
     ]
    }
   ],
   "source": [
    "# Initialize predictor\n",
    "stock_symbol = \"META\"  # You can change this to any stock symbol\n",
    "predictor = StockPredictor(stock_symbol)\n",
    "\n",
    "# Fetch stock data\n",
    "stock_df = predictor.fetch_stock_data()\n",
    "if stock_df.empty:\n",
    "    print(\"Failed to fetch stock data. Exiting...\")\n",
    "else:\n",
    "    print(f\"Successfully fetched stock data with shape: {stock_df.shape}\")\n",
    "\n",
    "# Fetch sentiment data\n",
    "print(\"\\nFetching sentiment data...\")\n",
    "sentiment_df = predictor.fetch_combined_sentiment()\n",
    "if sentiment_df.empty:\n",
    "    print(\"No sentiment data available. Using only technical indicators...\")\n",
    "else:\n",
    "    print(f\"Fetched sentiment data for {len(sentiment_df)} days\")\n",
    "\n",
    "# Prepare features\n",
    "print(\"\\nPreparing features...\")\n",
    "feature_df = predictor.prepare_features(stock_df, sentiment_df)\n",
    "print(f\"Final dataset shape: {feature_df.shape}\")\n",
    "\n",
    "# Select features\n",
    "feature_columns = [col for col in feature_df.columns \n",
    "                  if col not in ['Close', 'Returns', 'Date', 'Dividends', 'Stock Splits']]\n",
    "print(f\"\\nUsing features: {feature_columns}\")\n",
    "\n",
    "# Prepare target\n",
    "target = feature_df['Close']"
   ]
  },
  {
   "cell_type": "code",
   "execution_count": 33,
   "metadata": {},
   "outputs": [
    {
     "name": "stdout",
     "output_type": "stream",
     "text": [
      "\n",
      "Training model...\n",
      "\n",
      "Model Performance:\n",
      "Train Score: 0.9969\n",
      "Test Score: 0.2434\n"
     ]
    }
   ],
   "source": [
    "# Train model\n",
    "print(\"\\nTraining model...\")\n",
    "model, train_score, test_score, X_test, y_test = predictor.train_model(\n",
    "    feature_df[feature_columns], \n",
    "    target\n",
    ")\n",
    "\n",
    "print(f\"\\nModel Performance:\")\n",
    "print(f\"Train Score: {train_score:.4f}\")\n",
    "print(f\"Test Score: {test_score:.4f}\")"
   ]
  },
  {
   "cell_type": "code",
   "execution_count": 24,
   "metadata": {},
   "outputs": [
    {
     "data": {
      "application/vnd.plotly.v1+json": {
       "config": {
        "plotlyServerURL": "https://plot.ly"
       },
       "data": [
        {
         "line": {
          "color": "blue"
         },
         "name": "Actual",
         "type": "scatter",
         "x": [
          "2024-10-10T00:00:00",
          "2024-10-11T00:00:00",
          "2024-10-14T00:00:00",
          "2024-10-15T00:00:00",
          "2024-10-16T00:00:00",
          "2024-10-17T00:00:00",
          "2024-10-18T00:00:00",
          "2024-10-21T00:00:00",
          "2024-10-22T00:00:00",
          "2024-10-23T00:00:00",
          "2024-10-24T00:00:00",
          "2024-10-25T00:00:00",
          "2024-10-28T00:00:00",
          "2024-10-29T00:00:00",
          "2024-10-30T00:00:00",
          "2024-10-31T00:00:00",
          "2024-11-01T00:00:00",
          "2024-11-04T00:00:00",
          "2024-11-05T00:00:00",
          "2024-11-06T00:00:00",
          "2024-11-07T00:00:00",
          "2024-11-08T00:00:00",
          "2024-11-11T00:00:00",
          "2024-11-12T00:00:00",
          "2024-11-13T00:00:00",
          "2024-11-14T00:00:00",
          "2024-11-15T00:00:00",
          "2024-11-18T00:00:00",
          "2024-11-19T00:00:00",
          "2024-11-20T00:00:00",
          "2024-11-21T00:00:00",
          "2024-11-22T00:00:00",
          "2024-11-25T00:00:00",
          "2024-11-26T00:00:00",
          "2024-11-27T00:00:00",
          "2024-11-29T00:00:00",
          "2024-12-02T00:00:00",
          "2024-12-03T00:00:00",
          "2024-12-04T00:00:00",
          "2024-12-05T00:00:00",
          "2024-12-06T00:00:00"
         ],
         "y": [
          583.8300170898438,
          589.9500122070312,
          590.4199829101562,
          586.27001953125,
          576.7899780273438,
          576.9299926757812,
          576.469970703125,
          575.1599731445312,
          582.010009765625,
          563.6900024414062,
          567.780029296875,
          573.25,
          578.1599731445312,
          593.280029296875,
          591.7999877929688,
          567.5800170898438,
          567.1599731445312,
          560.6799926757812,
          572.4299926757812,
          572.0499877929688,
          591.7000122070312,
          589.3400268554688,
          583.1699829101562,
          584.8200073242188,
          580,
          577.1599731445312,
          554.0800170898438,
          554.4000244140625,
          561.0900268554688,
          565.52001953125,
          563.0900268554688,
          559.1400146484375,
          565.1099853515625,
          573.5399780273438,
          569.2000122070312,
          574.3200073242188,
          592.8300170898438,
          613.6500244140625,
          613.780029296875,
          608.9299926757812,
          623.77001953125
         ]
        },
        {
         "line": {
          "color": "red"
         },
         "name": "Predicted",
         "type": "scatter",
         "x": [
          "2024-10-10T00:00:00",
          "2024-10-11T00:00:00",
          "2024-10-14T00:00:00",
          "2024-10-15T00:00:00",
          "2024-10-16T00:00:00",
          "2024-10-17T00:00:00",
          "2024-10-18T00:00:00",
          "2024-10-21T00:00:00",
          "2024-10-22T00:00:00",
          "2024-10-23T00:00:00",
          "2024-10-24T00:00:00",
          "2024-10-25T00:00:00",
          "2024-10-28T00:00:00",
          "2024-10-29T00:00:00",
          "2024-10-30T00:00:00",
          "2024-10-31T00:00:00",
          "2024-11-01T00:00:00",
          "2024-11-04T00:00:00",
          "2024-11-05T00:00:00",
          "2024-11-06T00:00:00",
          "2024-11-07T00:00:00",
          "2024-11-08T00:00:00",
          "2024-11-11T00:00:00",
          "2024-11-12T00:00:00",
          "2024-11-13T00:00:00",
          "2024-11-14T00:00:00",
          "2024-11-15T00:00:00",
          "2024-11-18T00:00:00",
          "2024-11-19T00:00:00",
          "2024-11-20T00:00:00",
          "2024-11-21T00:00:00",
          "2024-11-22T00:00:00",
          "2024-11-25T00:00:00",
          "2024-11-26T00:00:00",
          "2024-11-27T00:00:00",
          "2024-11-29T00:00:00",
          "2024-12-02T00:00:00",
          "2024-12-03T00:00:00",
          "2024-12-04T00:00:00",
          "2024-12-05T00:00:00",
          "2024-12-06T00:00:00"
         ],
         "y": [
          589.0553454589843,
          588.1421447753906,
          588.1565447998047,
          586.8043420410156,
          583.2406384277343,
          583.4445727539063,
          582.7418902587891,
          579.1751873779297,
          580.2711828613282,
          577.8637854003906,
          575.8996838378906,
          578.3592834472656,
          578.8388848876953,
          580.21638671875,
          580.9985949707032,
          579.4660931396485,
          575.5190887451172,
          575.230634765625,
          575.82193359375,
          574.5102319335938,
          579.3501361083985,
          580.2892376708984,
          578.7093347167969,
          580.1995373535157,
          577.8234338378907,
          577.419232788086,
          574.7775323486328,
          574.7257336425781,
          572.9780548095703,
          574.3492327880859,
          574.4664331054687,
          574.3529327392578,
          574.573232421875,
          575.9623333740234,
          575.5718328857422,
          576.2571337890626,
          579.2468359375,
          581.4069403076172,
          581.140541381836,
          581.2490411376953,
          581.97771484375
         ]
        }
       ],
       "layout": {
        "template": {
         "data": {
          "bar": [
           {
            "error_x": {
             "color": "#f2f5fa"
            },
            "error_y": {
             "color": "#f2f5fa"
            },
            "marker": {
             "line": {
              "color": "rgb(17,17,17)",
              "width": 0.5
             },
             "pattern": {
              "fillmode": "overlay",
              "size": 10,
              "solidity": 0.2
             }
            },
            "type": "bar"
           }
          ],
          "barpolar": [
           {
            "marker": {
             "line": {
              "color": "rgb(17,17,17)",
              "width": 0.5
             },
             "pattern": {
              "fillmode": "overlay",
              "size": 10,
              "solidity": 0.2
             }
            },
            "type": "barpolar"
           }
          ],
          "carpet": [
           {
            "aaxis": {
             "endlinecolor": "#A2B1C6",
             "gridcolor": "#506784",
             "linecolor": "#506784",
             "minorgridcolor": "#506784",
             "startlinecolor": "#A2B1C6"
            },
            "baxis": {
             "endlinecolor": "#A2B1C6",
             "gridcolor": "#506784",
             "linecolor": "#506784",
             "minorgridcolor": "#506784",
             "startlinecolor": "#A2B1C6"
            },
            "type": "carpet"
           }
          ],
          "choropleth": [
           {
            "colorbar": {
             "outlinewidth": 0,
             "ticks": ""
            },
            "type": "choropleth"
           }
          ],
          "contour": [
           {
            "colorbar": {
             "outlinewidth": 0,
             "ticks": ""
            },
            "colorscale": [
             [
              0,
              "#0d0887"
             ],
             [
              0.1111111111111111,
              "#46039f"
             ],
             [
              0.2222222222222222,
              "#7201a8"
             ],
             [
              0.3333333333333333,
              "#9c179e"
             ],
             [
              0.4444444444444444,
              "#bd3786"
             ],
             [
              0.5555555555555556,
              "#d8576b"
             ],
             [
              0.6666666666666666,
              "#ed7953"
             ],
             [
              0.7777777777777778,
              "#fb9f3a"
             ],
             [
              0.8888888888888888,
              "#fdca26"
             ],
             [
              1,
              "#f0f921"
             ]
            ],
            "type": "contour"
           }
          ],
          "contourcarpet": [
           {
            "colorbar": {
             "outlinewidth": 0,
             "ticks": ""
            },
            "type": "contourcarpet"
           }
          ],
          "heatmap": [
           {
            "colorbar": {
             "outlinewidth": 0,
             "ticks": ""
            },
            "colorscale": [
             [
              0,
              "#0d0887"
             ],
             [
              0.1111111111111111,
              "#46039f"
             ],
             [
              0.2222222222222222,
              "#7201a8"
             ],
             [
              0.3333333333333333,
              "#9c179e"
             ],
             [
              0.4444444444444444,
              "#bd3786"
             ],
             [
              0.5555555555555556,
              "#d8576b"
             ],
             [
              0.6666666666666666,
              "#ed7953"
             ],
             [
              0.7777777777777778,
              "#fb9f3a"
             ],
             [
              0.8888888888888888,
              "#fdca26"
             ],
             [
              1,
              "#f0f921"
             ]
            ],
            "type": "heatmap"
           }
          ],
          "heatmapgl": [
           {
            "colorbar": {
             "outlinewidth": 0,
             "ticks": ""
            },
            "colorscale": [
             [
              0,
              "#0d0887"
             ],
             [
              0.1111111111111111,
              "#46039f"
             ],
             [
              0.2222222222222222,
              "#7201a8"
             ],
             [
              0.3333333333333333,
              "#9c179e"
             ],
             [
              0.4444444444444444,
              "#bd3786"
             ],
             [
              0.5555555555555556,
              "#d8576b"
             ],
             [
              0.6666666666666666,
              "#ed7953"
             ],
             [
              0.7777777777777778,
              "#fb9f3a"
             ],
             [
              0.8888888888888888,
              "#fdca26"
             ],
             [
              1,
              "#f0f921"
             ]
            ],
            "type": "heatmapgl"
           }
          ],
          "histogram": [
           {
            "marker": {
             "pattern": {
              "fillmode": "overlay",
              "size": 10,
              "solidity": 0.2
             }
            },
            "type": "histogram"
           }
          ],
          "histogram2d": [
           {
            "colorbar": {
             "outlinewidth": 0,
             "ticks": ""
            },
            "colorscale": [
             [
              0,
              "#0d0887"
             ],
             [
              0.1111111111111111,
              "#46039f"
             ],
             [
              0.2222222222222222,
              "#7201a8"
             ],
             [
              0.3333333333333333,
              "#9c179e"
             ],
             [
              0.4444444444444444,
              "#bd3786"
             ],
             [
              0.5555555555555556,
              "#d8576b"
             ],
             [
              0.6666666666666666,
              "#ed7953"
             ],
             [
              0.7777777777777778,
              "#fb9f3a"
             ],
             [
              0.8888888888888888,
              "#fdca26"
             ],
             [
              1,
              "#f0f921"
             ]
            ],
            "type": "histogram2d"
           }
          ],
          "histogram2dcontour": [
           {
            "colorbar": {
             "outlinewidth": 0,
             "ticks": ""
            },
            "colorscale": [
             [
              0,
              "#0d0887"
             ],
             [
              0.1111111111111111,
              "#46039f"
             ],
             [
              0.2222222222222222,
              "#7201a8"
             ],
             [
              0.3333333333333333,
              "#9c179e"
             ],
             [
              0.4444444444444444,
              "#bd3786"
             ],
             [
              0.5555555555555556,
              "#d8576b"
             ],
             [
              0.6666666666666666,
              "#ed7953"
             ],
             [
              0.7777777777777778,
              "#fb9f3a"
             ],
             [
              0.8888888888888888,
              "#fdca26"
             ],
             [
              1,
              "#f0f921"
             ]
            ],
            "type": "histogram2dcontour"
           }
          ],
          "mesh3d": [
           {
            "colorbar": {
             "outlinewidth": 0,
             "ticks": ""
            },
            "type": "mesh3d"
           }
          ],
          "parcoords": [
           {
            "line": {
             "colorbar": {
              "outlinewidth": 0,
              "ticks": ""
             }
            },
            "type": "parcoords"
           }
          ],
          "pie": [
           {
            "automargin": true,
            "type": "pie"
           }
          ],
          "scatter": [
           {
            "marker": {
             "line": {
              "color": "#283442"
             }
            },
            "type": "scatter"
           }
          ],
          "scatter3d": [
           {
            "line": {
             "colorbar": {
              "outlinewidth": 0,
              "ticks": ""
             }
            },
            "marker": {
             "colorbar": {
              "outlinewidth": 0,
              "ticks": ""
             }
            },
            "type": "scatter3d"
           }
          ],
          "scattercarpet": [
           {
            "marker": {
             "colorbar": {
              "outlinewidth": 0,
              "ticks": ""
             }
            },
            "type": "scattercarpet"
           }
          ],
          "scattergeo": [
           {
            "marker": {
             "colorbar": {
              "outlinewidth": 0,
              "ticks": ""
             }
            },
            "type": "scattergeo"
           }
          ],
          "scattergl": [
           {
            "marker": {
             "line": {
              "color": "#283442"
             }
            },
            "type": "scattergl"
           }
          ],
          "scattermapbox": [
           {
            "marker": {
             "colorbar": {
              "outlinewidth": 0,
              "ticks": ""
             }
            },
            "type": "scattermapbox"
           }
          ],
          "scatterpolar": [
           {
            "marker": {
             "colorbar": {
              "outlinewidth": 0,
              "ticks": ""
             }
            },
            "type": "scatterpolar"
           }
          ],
          "scatterpolargl": [
           {
            "marker": {
             "colorbar": {
              "outlinewidth": 0,
              "ticks": ""
             }
            },
            "type": "scatterpolargl"
           }
          ],
          "scatterternary": [
           {
            "marker": {
             "colorbar": {
              "outlinewidth": 0,
              "ticks": ""
             }
            },
            "type": "scatterternary"
           }
          ],
          "surface": [
           {
            "colorbar": {
             "outlinewidth": 0,
             "ticks": ""
            },
            "colorscale": [
             [
              0,
              "#0d0887"
             ],
             [
              0.1111111111111111,
              "#46039f"
             ],
             [
              0.2222222222222222,
              "#7201a8"
             ],
             [
              0.3333333333333333,
              "#9c179e"
             ],
             [
              0.4444444444444444,
              "#bd3786"
             ],
             [
              0.5555555555555556,
              "#d8576b"
             ],
             [
              0.6666666666666666,
              "#ed7953"
             ],
             [
              0.7777777777777778,
              "#fb9f3a"
             ],
             [
              0.8888888888888888,
              "#fdca26"
             ],
             [
              1,
              "#f0f921"
             ]
            ],
            "type": "surface"
           }
          ],
          "table": [
           {
            "cells": {
             "fill": {
              "color": "#506784"
             },
             "line": {
              "color": "rgb(17,17,17)"
             }
            },
            "header": {
             "fill": {
              "color": "#2a3f5f"
             },
             "line": {
              "color": "rgb(17,17,17)"
             }
            },
            "type": "table"
           }
          ]
         },
         "layout": {
          "annotationdefaults": {
           "arrowcolor": "#f2f5fa",
           "arrowhead": 0,
           "arrowwidth": 1
          },
          "autotypenumbers": "strict",
          "coloraxis": {
           "colorbar": {
            "outlinewidth": 0,
            "ticks": ""
           }
          },
          "colorscale": {
           "diverging": [
            [
             0,
             "#8e0152"
            ],
            [
             0.1,
             "#c51b7d"
            ],
            [
             0.2,
             "#de77ae"
            ],
            [
             0.3,
             "#f1b6da"
            ],
            [
             0.4,
             "#fde0ef"
            ],
            [
             0.5,
             "#f7f7f7"
            ],
            [
             0.6,
             "#e6f5d0"
            ],
            [
             0.7,
             "#b8e186"
            ],
            [
             0.8,
             "#7fbc41"
            ],
            [
             0.9,
             "#4d9221"
            ],
            [
             1,
             "#276419"
            ]
           ],
           "sequential": [
            [
             0,
             "#0d0887"
            ],
            [
             0.1111111111111111,
             "#46039f"
            ],
            [
             0.2222222222222222,
             "#7201a8"
            ],
            [
             0.3333333333333333,
             "#9c179e"
            ],
            [
             0.4444444444444444,
             "#bd3786"
            ],
            [
             0.5555555555555556,
             "#d8576b"
            ],
            [
             0.6666666666666666,
             "#ed7953"
            ],
            [
             0.7777777777777778,
             "#fb9f3a"
            ],
            [
             0.8888888888888888,
             "#fdca26"
            ],
            [
             1,
             "#f0f921"
            ]
           ],
           "sequentialminus": [
            [
             0,
             "#0d0887"
            ],
            [
             0.1111111111111111,
             "#46039f"
            ],
            [
             0.2222222222222222,
             "#7201a8"
            ],
            [
             0.3333333333333333,
             "#9c179e"
            ],
            [
             0.4444444444444444,
             "#bd3786"
            ],
            [
             0.5555555555555556,
             "#d8576b"
            ],
            [
             0.6666666666666666,
             "#ed7953"
            ],
            [
             0.7777777777777778,
             "#fb9f3a"
            ],
            [
             0.8888888888888888,
             "#fdca26"
            ],
            [
             1,
             "#f0f921"
            ]
           ]
          },
          "colorway": [
           "#636efa",
           "#EF553B",
           "#00cc96",
           "#ab63fa",
           "#FFA15A",
           "#19d3f3",
           "#FF6692",
           "#B6E880",
           "#FF97FF",
           "#FECB52"
          ],
          "font": {
           "color": "#f2f5fa"
          },
          "geo": {
           "bgcolor": "rgb(17,17,17)",
           "lakecolor": "rgb(17,17,17)",
           "landcolor": "rgb(17,17,17)",
           "showlakes": true,
           "showland": true,
           "subunitcolor": "#506784"
          },
          "hoverlabel": {
           "align": "left"
          },
          "hovermode": "closest",
          "mapbox": {
           "style": "dark"
          },
          "paper_bgcolor": "rgb(17,17,17)",
          "plot_bgcolor": "rgb(17,17,17)",
          "polar": {
           "angularaxis": {
            "gridcolor": "#506784",
            "linecolor": "#506784",
            "ticks": ""
           },
           "bgcolor": "rgb(17,17,17)",
           "radialaxis": {
            "gridcolor": "#506784",
            "linecolor": "#506784",
            "ticks": ""
           }
          },
          "scene": {
           "xaxis": {
            "backgroundcolor": "rgb(17,17,17)",
            "gridcolor": "#506784",
            "gridwidth": 2,
            "linecolor": "#506784",
            "showbackground": true,
            "ticks": "",
            "zerolinecolor": "#C8D4E3"
           },
           "yaxis": {
            "backgroundcolor": "rgb(17,17,17)",
            "gridcolor": "#506784",
            "gridwidth": 2,
            "linecolor": "#506784",
            "showbackground": true,
            "ticks": "",
            "zerolinecolor": "#C8D4E3"
           },
           "zaxis": {
            "backgroundcolor": "rgb(17,17,17)",
            "gridcolor": "#506784",
            "gridwidth": 2,
            "linecolor": "#506784",
            "showbackground": true,
            "ticks": "",
            "zerolinecolor": "#C8D4E3"
           }
          },
          "shapedefaults": {
           "line": {
            "color": "#f2f5fa"
           }
          },
          "sliderdefaults": {
           "bgcolor": "#C8D4E3",
           "bordercolor": "rgb(17,17,17)",
           "borderwidth": 1,
           "tickwidth": 0
          },
          "ternary": {
           "aaxis": {
            "gridcolor": "#506784",
            "linecolor": "#506784",
            "ticks": ""
           },
           "baxis": {
            "gridcolor": "#506784",
            "linecolor": "#506784",
            "ticks": ""
           },
           "bgcolor": "rgb(17,17,17)",
           "caxis": {
            "gridcolor": "#506784",
            "linecolor": "#506784",
            "ticks": ""
           }
          },
          "title": {
           "x": 0.05
          },
          "updatemenudefaults": {
           "bgcolor": "#506784",
           "borderwidth": 0
          },
          "xaxis": {
           "automargin": true,
           "gridcolor": "#283442",
           "linecolor": "#506784",
           "ticks": "",
           "title": {
            "standoff": 15
           },
           "zerolinecolor": "#283442",
           "zerolinewidth": 2
          },
          "yaxis": {
           "automargin": true,
           "gridcolor": "#283442",
           "linecolor": "#506784",
           "ticks": "",
           "title": {
            "standoff": 15
           },
           "zerolinecolor": "#283442",
           "zerolinewidth": 2
          }
         }
        },
        "title": {
         "text": "META Stock Price Prediction"
        },
        "xaxis": {
         "title": {
          "text": "Date"
         }
        },
        "yaxis": {
         "title": {
          "text": "Price"
         }
        }
       }
      }
     },
     "metadata": {},
     "output_type": "display_data"
    }
   ],
   "source": [
    "# Make predictions\n",
    "predictions = model.predict(X_test)\n",
    "\n",
    "# Create and display plot\n",
    "fig = predictor.plot_predictions(\n",
    "    y_test,\n",
    "    predictions,\n",
    "    X_test.index\n",
    ")\n",
    "fig.show()"
   ]
  },
  {
   "cell_type": "code",
   "execution_count": null,
   "metadata": {},
   "outputs": [],
   "source": []
  }
 ],
 "metadata": {
  "kernelspec": {
   "display_name": ".venv",
   "language": "python",
   "name": "python3"
  },
  "language_info": {
   "codemirror_mode": {
    "name": "ipython",
    "version": 3
   },
   "file_extension": ".py",
   "mimetype": "text/x-python",
   "name": "python",
   "nbconvert_exporter": "python",
   "pygments_lexer": "ipython3",
   "version": "3.12.8"
  }
 },
 "nbformat": 4,
 "nbformat_minor": 2
}
